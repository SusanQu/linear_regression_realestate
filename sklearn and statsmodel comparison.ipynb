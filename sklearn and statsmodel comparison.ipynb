{
 "cells": [
  {
   "cell_type": "markdown",
   "metadata": {},
   "source": [
    "### Comparing sklearn and StatsModel\n",
    "\n",
    "In sklearn, the intercept is included by default. <i>fit_intercept=True</i>. But intercept is not included automatically in Statsmodel. Thus a column of 1 is added. \n",
    "\n",
    "Statsmodel takes y first, then x when constructing the model. <i>sm.OLS(y1, x1)</i>\n",
    "\n",
    "why adding a column of 1? \n",
    "\n",
    "reference: https://stats.stackexchange.com/questions/249892/wildly-different-r2-between-statsmodels-linear-regression-and-sklearn-linear"
   ]
  },
  {
   "cell_type": "code",
   "execution_count": 6,
   "metadata": {},
   "outputs": [],
   "source": [
    "# Import\n",
    "import pandas as pd\n",
    "\n",
    "from sklearn.linear_model import LinearRegression\n",
    "from sklearn.metrics import mean_squared_error, r2_score\n",
    "\n",
    "import statsmodels.api as sm"
   ]
  },
  {
   "cell_type": "code",
   "execution_count": 1,
   "metadata": {},
   "outputs": [],
   "source": [
    "# Compare sklearn and statsmodel\n",
    "x1 = [26.0, 31.0, 47.0, 51.0, 50.0, 49.0, 37.0, 33.0, 49.0, 54.0, 31.0, 49.0, 48.0, 49.0, 49.0, 47.0, 44.0, 48.0, 35.0, 43.0]\n",
    "y1 = [116.0, 94.0, 100.0, 102.0, 116.0, 116.0, 68.0, 118.0, 91.0, 104.0, 78.0, 116.0, 90.0, 109.0, 116.0, 118.0, 108.0, 119.0, 110.0, 102.0]"
   ]
  },
  {
   "cell_type": "markdown",
   "metadata": {},
   "source": [
    "### StatsModel"
   ]
  },
  {
   "cell_type": "code",
   "execution_count": 4,
   "metadata": {},
   "outputs": [
    {
     "name": "stdout",
     "output_type": "stream",
     "text": [
      "[[ 1. 26.]\n",
      " [ 1. 31.]\n",
      " [ 1. 47.]\n",
      " [ 1. 51.]\n",
      " [ 1. 50.]]\n",
      "                            OLS Regression Results                            \n",
      "==============================================================================\n",
      "Dep. Variable:                      y   R-squared:                       0.058\n",
      "Model:                            OLS   Adj. R-squared:                  0.006\n",
      "Method:                 Least Squares   F-statistic:                     1.117\n",
      "Date:                Thu, 07 Oct 2021   Prob (F-statistic):              0.305\n",
      "Time:                        18:31:33   Log-Likelihood:                -80.427\n",
      "No. Observations:                  20   AIC:                             164.9\n",
      "Df Residuals:                      18   BIC:                             166.8\n",
      "Df Model:                           1                                         \n",
      "Covariance Type:            nonrobust                                         \n",
      "==============================================================================\n",
      "                 coef    std err          t      P>|t|      [0.025      0.975]\n",
      "------------------------------------------------------------------------------\n",
      "const         86.1936     17.661      4.880      0.000      49.089     123.298\n",
      "x1             0.4220      0.399      1.057      0.305      -0.417       1.261\n",
      "==============================================================================\n",
      "Omnibus:                        2.959   Durbin-Watson:                   2.502\n",
      "Prob(Omnibus):                  0.228   Jarque-Bera (JB):                1.950\n",
      "Skew:                          -0.765   Prob(JB):                        0.377\n",
      "Kurtosis:                       2.951   Cond. No.                         246.\n",
      "==============================================================================\n",
      "\n",
      "Notes:\n",
      "[1] Standard Errors assume that the covariance matrix of the errors is correctly specified.\n"
     ]
    }
   ],
   "source": [
    "# Add intercept, as sklearn includes an intercept by default\n",
    "x1 = sm.add_constant(x1)\n",
    "print(x1[0:5])\n",
    "\n",
    "# Fit and summarize statsmodel OLS model\n",
    "model_sm = sm.OLS(y1, x1)\n",
    "result_sm = model_sm.fit()\n",
    "print(result_sm.summary())"
   ]
  },
  {
   "cell_type": "markdown",
   "metadata": {},
   "source": [
    "### sklearn"
   ]
  },
  {
   "cell_type": "code",
   "execution_count": 7,
   "metadata": {},
   "outputs": [
    {
     "name": "stdout",
     "output_type": "stream",
     "text": [
      "sklearn R^2: 0.05840690736642229\n"
     ]
    }
   ],
   "source": [
    "# Create sklearn linear regression object. fit_intercept is set True by default\n",
    "ols_sk = LinearRegression(fit_intercept=True)\n",
    "\n",
    "# fit model\n",
    "model_sk = ols_sk.fit(pd.DataFrame(x1), pd.DataFrame(y1))\n",
    "\n",
    "# sklearn coefficient of determination\n",
    "coef_of_det = model_sk.score(pd.DataFrame(x1), pd.DataFrame(y1))\n",
    "\n",
    "print('sklearn R^2: ' + str(coef_of_det))"
   ]
  },
  {
   "cell_type": "code",
   "execution_count": null,
   "metadata": {},
   "outputs": [],
   "source": []
  }
 ],
 "metadata": {
  "kernelspec": {
   "display_name": "Python 3",
   "language": "python",
   "name": "python3"
  },
  "language_info": {
   "codemirror_mode": {
    "name": "ipython",
    "version": 3
   },
   "file_extension": ".py",
   "mimetype": "text/x-python",
   "name": "python",
   "nbconvert_exporter": "python",
   "pygments_lexer": "ipython3",
   "version": "3.7.7"
  }
 },
 "nbformat": 4,
 "nbformat_minor": 4
}
